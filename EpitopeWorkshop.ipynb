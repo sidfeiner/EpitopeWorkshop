{
 "nbformat": 4,
 "nbformat_minor": 0,
 "metadata": {
  "colab": {
   "name": "EpitopeWorkshop.ipynb",
   "provenance": [],
   "collapsed_sections": [],
   "authorship_tag": "ABX9TyO06JsnqvcBBJ0vjosZWcNA",
   "include_colab_link": true
  },
  "kernelspec": {
   "name": "python3",
   "display_name": "Python 3"
  },
  "language_info": {
   "name": "python"
  }
 },
 "cells": [
  {
   "cell_type": "markdown",
   "metadata": {
    "id": "view-in-github",
    "colab_type": "text"
   },
   "source": [
    "<a href=\"https://colab.research.google.com/github/sidfeiner/EpitopeWorkshop/blob/master/EpitopeWorkshop.ipynb\" target=\"_parent\"><img src=\"https://colab.research.google.com/assets/colab-badge.svg\" alt=\"Open In Colab\"/></a>"
   ]
  },
  {
   "cell_type": "code",
   "metadata": {
    "colab": {
     "base_uri": "https://localhost:8080/"
    },
    "id": "N8dIV6inLXlE",
    "outputId": "19c6ddb7-c2e7-4b0e-9934-53bede2c7dbc"
   },
   "source": [
    "from getpass import getpass\n",
    "token = getpass('insert token')\n",
    "!git clone https://$token@github.com/sidfeiner/EpitopeWorkshop.git\n",
    "!mv EpitopeWorkshop workshop"
   ],
   "execution_count": 17,
   "outputs": [
    {
     "output_type": "stream",
     "text": [
      "insert token··········\n",
      "Cloning into 'EpitopeWorkshop'...\n",
      "remote: Enumerating objects: 144, done.\u001B[K\n",
      "remote: Counting objects: 100% (144/144), done.\u001B[K\n",
      "remote: Compressing objects: 100% (105/105), done.\u001B[K\n",
      "remote: Total 144 (delta 70), reused 106 (delta 35), pack-reused 0\u001B[K\n",
      "Receiving objects: 100% (144/144), 9.73 MiB | 21.89 MiB/s, done.\n",
      "Resolving deltas: 100% (70/70), done.\n",
      "mv: cannot move 'EpitopeWorkshop' to 'workshop/EpitopeWorkshop': Directory not empty\n"
     ],
     "name": "stdout"
    }
   ]
  },
  {
   "cell_type": "code",
   "metadata": {
    "colab": {
     "base_uri": "https://localhost:8080/"
    },
    "id": "1qS8mejQMOW4",
    "outputId": "d3aab9fc-926f-452c-95ad-d6bb33edbfa1"
   },
   "source": [
    "!cd workshop/ && pip3 install -e .\n",
    "import sys\n",
    "sys.path.append('/content/workshop/')\n",
    "!pip install fsspec"
   ],
   "execution_count": 8,
   "outputs": [
    {
     "output_type": "stream",
     "text": [
      "Obtaining file:///content/workshop\n",
      "Requirement already satisfied: biopython in /usr/local/lib/python3.7/dist-packages (from epitope-workshop==0.0.2) (1.79)\n",
      "Requirement already satisfied: quantiprot in /usr/local/lib/python3.7/dist-packages (from epitope-workshop==0.0.2) (0.2.4)\n",
      "Requirement already satisfied: fire in /usr/local/lib/python3.7/dist-packages (from epitope-workshop==0.0.2) (0.4.0)\n",
      "Requirement already satisfied: memoization in /usr/local/lib/python3.7/dist-packages (from epitope-workshop==0.0.2) (0.4.0)\n",
      "Requirement already satisfied: dask in /usr/local/lib/python3.7/dist-packages (from epitope-workshop==0.0.2) (2.12.0)\n",
      "Requirement already satisfied: numpy in /usr/local/lib/python3.7/dist-packages (from biopython->epitope-workshop==0.0.2) (1.19.5)\n",
      "Requirement already satisfied: six in /usr/local/lib/python3.7/dist-packages (from fire->epitope-workshop==0.0.2) (1.15.0)\n",
      "Requirement already satisfied: termcolor in /usr/local/lib/python3.7/dist-packages (from fire->epitope-workshop==0.0.2) (1.1.0)\n",
      "Requirement already satisfied: requests>=2.10.0 in /usr/local/lib/python3.7/dist-packages (from quantiprot->epitope-workshop==0.0.2) (2.23.0)\n",
      "Requirement already satisfied: certifi>=2017.4.17 in /usr/local/lib/python3.7/dist-packages (from requests>=2.10.0->quantiprot->epitope-workshop==0.0.2) (2021.5.30)\n",
      "Requirement already satisfied: chardet<4,>=3.0.2 in /usr/local/lib/python3.7/dist-packages (from requests>=2.10.0->quantiprot->epitope-workshop==0.0.2) (3.0.4)\n",
      "Requirement already satisfied: idna<3,>=2.5 in /usr/local/lib/python3.7/dist-packages (from requests>=2.10.0->quantiprot->epitope-workshop==0.0.2) (2.10)\n",
      "Requirement already satisfied: urllib3!=1.25.0,!=1.25.1,<1.26,>=1.21.1 in /usr/local/lib/python3.7/dist-packages (from requests>=2.10.0->quantiprot->epitope-workshop==0.0.2) (1.24.3)\n",
      "Installing collected packages: epitope-workshop\n",
      "  Attempting uninstall: epitope-workshop\n",
      "    Found existing installation: epitope-workshop 0.0.2\n",
      "    Can't uninstall 'epitope-workshop'. No files were found to uninstall.\n",
      "  Running setup.py develop for epitope-workshop\n",
      "Successfully installed epitope-workshop-0.0.2\n",
      "Collecting fsspec\n",
      "  Downloading fsspec-2021.7.0-py3-none-any.whl (118 kB)\n",
      "\u001B[K     |████████████████████████████████| 118 kB 5.0 MB/s \n",
      "\u001B[?25hInstalling collected packages: fsspec\n",
      "Successfully installed fsspec-2021.7.0\n"
     ],
     "name": "stdout"
    }
   ]
  },
  {
   "cell_type": "code",
   "metadata": {
    "id": "Wi5LB0WERrYh"
   },
   "source": [
    "from EpitopeWorkshop.process import read\n",
    "from EpitopeWorkshop.common.conf import DEFAULT_WINDOW_SIZE, DEFAULT_WITH_SLIDING_WINDOW\n",
    "from EpitopeWorkshop.process.features import FeatureCalculator\n",
    "import dask.dataframe as dd\n",
    "\n",
    "sequences_file_path = '/content/workshop/data/iedb_linear_epitopes.fasta'\n",
    "window_size = 9\n",
    "partitions_amt = 2\n",
    "\n",
    "df = read.read_fasta(sequences_file_path, with_sliding_window=True, sliding_window_size=window_size, limit_sequences_amt=10)\n",
    "ddf = dd.from_pandas(df, npartitions=partitions_amt)\n",
    "calculator = FeatureCalculator()\n",
    "df = calculator.calculate_features(ddf)"
   ],
   "execution_count": 13,
   "outputs": []
  }
 ]
}