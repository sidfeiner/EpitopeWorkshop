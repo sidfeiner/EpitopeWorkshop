{
  "nbformat": 4,
  "nbformat_minor": 0,
  "metadata": {
    "colab": {
      "name": "EpitopeWorkshop-Omer.ipynb",
      "provenance": [],
      "authorship_tag": "ABX9TyOf4tM4glnj2vFh4ybjiaFL",
      "include_colab_link": true
    },
    "kernelspec": {
      "name": "python3",
      "display_name": "Python 3"
    },
    "language_info": {
      "name": "python"
    }
  },
  "cells": [
    {
      "cell_type": "markdown",
      "metadata": {
        "id": "view-in-github",
        "colab_type": "text"
      },
      "source": [
        "<a href=\"https://colab.research.google.com/github/sidfeiner/EpitopeWorkshop/blob/master/EpitopeWorkshop_Omer.ipynb\" target=\"_parent\"><img src=\"https://colab.research.google.com/assets/colab-badge.svg\" alt=\"Open In Colab\"/></a>"
      ]
    },
    {
      "cell_type": "code",
      "metadata": {
        "colab": {
          "base_uri": "https://localhost:8080/"
        },
        "id": "JEt94OHsAcWT",
        "outputId": "f5fb27db-3713-4ba4-d004-037efc3e906d"
      },
      "source": [
        "from getpass import getpass\n",
        "token = getpass('insert token')\n",
        "!git clone https://$token@github.com/sidfeiner/EpitopeWorkshop.git\n",
        "!mv EpitopeWorkshop workshop"
      ],
      "execution_count": 1,
      "outputs": [
        {
          "output_type": "stream",
          "text": [
            "insert token··········\n",
            "Cloning into 'EpitopeWorkshop'...\n",
            "remote: Enumerating objects: 242, done.\u001b[K\n",
            "remote: Counting objects: 100% (242/242), done.\u001b[K\n",
            "remote: Compressing objects: 100% (173/173), done.\u001b[K\n",
            "remote: Total 242 (delta 127), reused 173 (delta 65), pack-reused 0\u001b[K\n",
            "Receiving objects: 100% (242/242), 10.61 MiB | 22.45 MiB/s, done.\n",
            "Resolving deltas: 100% (127/127), done.\n"
          ],
          "name": "stdout"
        }
      ]
    },
    {
      "cell_type": "code",
      "metadata": {
        "colab": {
          "base_uri": "https://localhost:8080/"
        },
        "id": "ToYU-BHBBTmn",
        "outputId": "9f1042fe-eed4-4150-cd38-9e3d1d791223"
      },
      "source": [
        "!cd workshop/ && pip3 install -e .\n",
        "import sys\n",
        "sys.path.append('/content/workshop/')\n",
        "!pip install fsspec"
      ],
      "execution_count": 2,
      "outputs": [
        {
          "output_type": "stream",
          "text": [
            "Obtaining file:///content/workshop\n",
            "Collecting biopython\n",
            "  Downloading biopython-1.79-cp37-cp37m-manylinux_2_5_x86_64.manylinux1_x86_64.whl (2.3 MB)\n",
            "\u001b[K     |████████████████████████████████| 2.3 MB 21.6 MB/s \n",
            "\u001b[?25hCollecting quantiprot\n",
            "  Downloading quantiprot-0.2.4.tar.gz (135 kB)\n",
            "\u001b[K     |████████████████████████████████| 135 kB 71.5 MB/s \n",
            "\u001b[?25hCollecting fire\n",
            "  Downloading fire-0.4.0.tar.gz (87 kB)\n",
            "\u001b[K     |████████████████████████████████| 87 kB 6.2 MB/s \n",
            "\u001b[?25hCollecting memoization\n",
            "  Downloading memoization-0.4.0.tar.gz (41 kB)\n",
            "\u001b[K     |████████████████████████████████| 41 kB 183 kB/s \n",
            "\u001b[?25hRequirement already satisfied: dask in /usr/local/lib/python3.7/dist-packages (from epitope-workshop==0.0.2) (2.12.0)\n",
            "Requirement already satisfied: numpy in /usr/local/lib/python3.7/dist-packages (from biopython->epitope-workshop==0.0.2) (1.19.5)\n",
            "Requirement already satisfied: six in /usr/local/lib/python3.7/dist-packages (from fire->epitope-workshop==0.0.2) (1.15.0)\n",
            "Requirement already satisfied: termcolor in /usr/local/lib/python3.7/dist-packages (from fire->epitope-workshop==0.0.2) (1.1.0)\n",
            "Requirement already satisfied: requests>=2.10.0 in /usr/local/lib/python3.7/dist-packages (from quantiprot->epitope-workshop==0.0.2) (2.23.0)\n",
            "Requirement already satisfied: idna<3,>=2.5 in /usr/local/lib/python3.7/dist-packages (from requests>=2.10.0->quantiprot->epitope-workshop==0.0.2) (2.10)\n",
            "Requirement already satisfied: chardet<4,>=3.0.2 in /usr/local/lib/python3.7/dist-packages (from requests>=2.10.0->quantiprot->epitope-workshop==0.0.2) (3.0.4)\n",
            "Requirement already satisfied: certifi>=2017.4.17 in /usr/local/lib/python3.7/dist-packages (from requests>=2.10.0->quantiprot->epitope-workshop==0.0.2) (2021.5.30)\n",
            "Requirement already satisfied: urllib3!=1.25.0,!=1.25.1,<1.26,>=1.21.1 in /usr/local/lib/python3.7/dist-packages (from requests>=2.10.0->quantiprot->epitope-workshop==0.0.2) (1.24.3)\n",
            "Building wheels for collected packages: fire, memoization, quantiprot\n",
            "  Building wheel for fire (setup.py) ... \u001b[?25l\u001b[?25hdone\n",
            "  Created wheel for fire: filename=fire-0.4.0-py2.py3-none-any.whl size=115943 sha256=6fe868c44a8e16557467caf94330e7603c6355f8c2506a2a4502986d865602d8\n",
            "  Stored in directory: /root/.cache/pip/wheels/8a/67/fb/2e8a12fa16661b9d5af1f654bd199366799740a85c64981226\n",
            "  Building wheel for memoization (setup.py) ... \u001b[?25l\u001b[?25hdone\n",
            "  Created wheel for memoization: filename=memoization-0.4.0-py3-none-any.whl size=50466 sha256=65715d3ed831b9fa0b2134f5973570cc4b5d154884921fd14158cc1893983117\n",
            "  Stored in directory: /root/.cache/pip/wheels/38/f7/65/161985e7311dd484a23b3a5c9149995dbf11db6cede602e7ef\n",
            "  Building wheel for quantiprot (setup.py) ... \u001b[?25l\u001b[?25hdone\n",
            "  Created wheel for quantiprot: filename=quantiprot-0.2.4-py3-none-any.whl size=151137 sha256=56055b1070bbeb23837257eddaa7c8c37933ad563070b74f53c2ae43768ab905\n",
            "  Stored in directory: /root/.cache/pip/wheels/93/8d/65/eca9417dcf185da8a775304eff8b40086e2575111c339cc040\n",
            "Successfully built fire memoization quantiprot\n",
            "Installing collected packages: quantiprot, memoization, fire, biopython, epitope-workshop\n",
            "  Running setup.py develop for epitope-workshop\n",
            "Successfully installed biopython-1.79 epitope-workshop-0.0.2 fire-0.4.0 memoization-0.4.0 quantiprot-0.2.4\n",
            "Collecting fsspec\n",
            "  Downloading fsspec-2021.7.0-py3-none-any.whl (118 kB)\n",
            "\u001b[K     |████████████████████████████████| 118 kB 30.2 MB/s \n",
            "\u001b[?25hInstalling collected packages: fsspec\n",
            "Successfully installed fsspec-2021.7.0\n"
          ],
          "name": "stdout"
        }
      ]
    },
    {
      "cell_type": "code",
      "metadata": {
        "id": "4BApN36RBbDi"
      },
      "source": [
        "from EpitopeWorkshop.process import read\n",
        "from EpitopeWorkshop.common.conf import DEFAULT_WINDOW_SIZE, DEFAULT_WITH_SLIDING_WINDOW\n",
        "from EpitopeWorkshop.process.features import FeatureCalculator\n",
        "import dask.dataframe as dd\n",
        "\n",
        "sequences_file_path = '/content/workshop/data/iedb_linear_epitopes.fasta'\n",
        "window_size = 9\n",
        "partitions_amt=2\n",
        "\n",
        "df = read.load_fasta_fasta(sequences_file_path, True, window_size, 1)\n",
        "ddf = dd.from_pandas(df, npartitions=partitions_amt)\n",
        "calculator = FeatureCalculator()\n",
        "df = calculator.calculate_features(ddf)"
      ],
      "execution_count": 3,
      "outputs": []
    },
    {
      "cell_type": "code",
      "metadata": {
        "colab": {
          "base_uri": "https://localhost:8080/"
        },
        "id": "4cQp8rT9BjmL",
        "outputId": "b78bd1b2-aab9-48ef-f1d0-bfa707199548"
      },
      "source": [
        "from EpitopeWorkshop.common import utils\n",
        "import torch\n",
        "import torchtext\n",
        "from EpitopeWorkshop.common import contract\n",
        "from EpitopeWorkshop.dataset.EpitopeDataset import EpitopeDataset\n",
        "\n",
        "sub_df = df[contract.NETWORK_LABELED_INPUT_ARGS]\n",
        "labels_df = df[contract.IS_IN_EPITOPE_COL_NAME]\n",
        "ds = EpitopeDataset(sub_df)\n",
        "device = torch.device('cuda' if torch.cuda.is_available() else 'cpu')\n",
        "ds_train, ds_valid, ds_test = ds.splits()\n",
        "print(len(ds_train), len(ds_valid), len(ds_test))"
      ],
      "execution_count": 4,
      "outputs": [
        {
          "output_type": "stream",
          "text": [
            "3672 524 1096\n"
          ],
          "name": "stdout"
        }
      ]
    },
    {
      "cell_type": "code",
      "metadata": {
        "id": "SQGmLxkgBp4e"
      },
      "source": [
        "from torchtext import data\n",
        "BATCH_SIZE = 25\n",
        "dl_train, dl_valid, dl_test = ds.iters(batch_size=32)\n",
        "\n",
        "x0, y0 = ds[0]"
      ],
      "execution_count": 5,
      "outputs": []
    },
    {
      "cell_type": "code",
      "metadata": {
        "id": "SnQLu7WLHL-N",
        "outputId": "f8d518f2-c337-49b8-f10a-324efe2f3ca4",
        "colab": {
          "base_uri": "https://localhost:8080/",
          "height": 229
        }
      },
      "source": [
        "from EpitopeWorkshop.cnn import cnn\n",
        "import torch.optim as optim\n",
        "import torch.nn as nn\n",
        "\n",
        "criterion = nn.CrossEntropyLoss()\n",
        "optimizer = optim.SGD(net.parameters(), lr=0.001, momentum=0.9)\n",
        "cn = CNN(26)\n",
        "print(type(cn))\n",
        "\n",
        "#a,b,c,d = "
      ],
      "execution_count": 9,
      "outputs": [
        {
          "output_type": "error",
          "ename": "NameError",
          "evalue": "ignored",
          "traceback": [
            "\u001b[0;31m---------------------------------------------------------------------------\u001b[0m",
            "\u001b[0;31mNameError\u001b[0m                                 Traceback (most recent call last)",
            "\u001b[0;32m<ipython-input-9-c1d89de9e5b7>\u001b[0m in \u001b[0;36m<module>\u001b[0;34m()\u001b[0m\n\u001b[1;32m      4\u001b[0m \u001b[0;34m\u001b[0m\u001b[0m\n\u001b[1;32m      5\u001b[0m \u001b[0mcriterion\u001b[0m \u001b[0;34m=\u001b[0m \u001b[0mnn\u001b[0m\u001b[0;34m.\u001b[0m\u001b[0mCrossEntropyLoss\u001b[0m\u001b[0;34m(\u001b[0m\u001b[0;34m)\u001b[0m\u001b[0;34m\u001b[0m\u001b[0;34m\u001b[0m\u001b[0m\n\u001b[0;32m----> 6\u001b[0;31m \u001b[0moptimizer\u001b[0m \u001b[0;34m=\u001b[0m \u001b[0moptim\u001b[0m\u001b[0;34m.\u001b[0m\u001b[0mSGD\u001b[0m\u001b[0;34m(\u001b[0m\u001b[0mnet\u001b[0m\u001b[0;34m.\u001b[0m\u001b[0mparameters\u001b[0m\u001b[0;34m(\u001b[0m\u001b[0;34m)\u001b[0m\u001b[0;34m,\u001b[0m \u001b[0mlr\u001b[0m\u001b[0;34m=\u001b[0m\u001b[0;36m0.001\u001b[0m\u001b[0;34m,\u001b[0m \u001b[0mmomentum\u001b[0m\u001b[0;34m=\u001b[0m\u001b[0;36m0.9\u001b[0m\u001b[0;34m)\u001b[0m\u001b[0;34m\u001b[0m\u001b[0;34m\u001b[0m\u001b[0m\n\u001b[0m\u001b[1;32m      7\u001b[0m \u001b[0mcn\u001b[0m \u001b[0;34m=\u001b[0m \u001b[0mCNN\u001b[0m\u001b[0;34m(\u001b[0m\u001b[0;36m26\u001b[0m\u001b[0;34m)\u001b[0m\u001b[0;34m\u001b[0m\u001b[0;34m\u001b[0m\u001b[0m\n\u001b[1;32m      8\u001b[0m \u001b[0mprint\u001b[0m\u001b[0;34m(\u001b[0m\u001b[0mtype\u001b[0m\u001b[0;34m(\u001b[0m\u001b[0mcn\u001b[0m\u001b[0;34m)\u001b[0m\u001b[0;34m)\u001b[0m\u001b[0;34m\u001b[0m\u001b[0;34m\u001b[0m\u001b[0m\n",
            "\u001b[0;31mNameError\u001b[0m: name 'net' is not defined"
          ]
        }
      ]
    }
  ]
}