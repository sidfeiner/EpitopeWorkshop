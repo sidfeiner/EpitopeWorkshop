{
  "nbformat": 4,
  "nbformat_minor": 0,
  "metadata": {
    "colab": {
      "name": "EpitopeWorkshop-Omer.ipynb",
      "provenance": [],
      "authorship_tag": "ABX9TyPGorY8EIH5leHmJw8YP56d",
      "include_colab_link": true
    },
    "kernelspec": {
      "name": "python3",
      "display_name": "Python 3"
    },
    "language_info": {
      "name": "python"
    }
  },
  "cells": [
    {
      "cell_type": "markdown",
      "metadata": {
        "id": "view-in-github",
        "colab_type": "text"
      },
      "source": [
        "<a href=\"https://colab.research.google.com/github/sidfeiner/EpitopeWorkshop/blob/master/EpitopeWorkshop_Omer.ipynb\" target=\"_parent\"><img src=\"https://colab.research.google.com/assets/colab-badge.svg\" alt=\"Open In Colab\"/></a>"
      ]
    },
    {
      "cell_type": "code",
      "metadata": {
        "colab": {
          "base_uri": "https://localhost:8080/"
        },
        "id": "JEt94OHsAcWT",
        "outputId": "f0ae3fb0-7e08-42bb-80e3-9043a1ffe60c"
      },
      "source": [
        "from getpass import getpass\n",
        "token = getpass('insert token')\n",
        "!git clone https://$token@github.com/sidfeiner/EpitopeWorkshop.git\n",
        "!mv EpitopeWorkshop workshop"
      ],
      "execution_count": 1,
      "outputs": [
        {
          "output_type": "stream",
          "text": [
            "insert token··········\n",
            "Cloning into 'EpitopeWorkshop'...\n",
            "remote: Enumerating objects: 227, done.\u001b[K\n",
            "remote: Counting objects: 100% (227/227), done.\u001b[K\n",
            "remote: Compressing objects: 100% (164/164), done.\u001b[K\n",
            "remote: Total 227 (delta 117), reused 162 (delta 59), pack-reused 0\u001b[K\n",
            "Receiving objects: 100% (227/227), 10.61 MiB | 11.91 MiB/s, done.\n",
            "Resolving deltas: 100% (117/117), done.\n"
          ],
          "name": "stdout"
        }
      ]
    },
    {
      "cell_type": "code",
      "metadata": {
        "colab": {
          "base_uri": "https://localhost:8080/"
        },
        "id": "ToYU-BHBBTmn",
        "outputId": "4533244d-b12d-4615-c05a-081ec150e8ad"
      },
      "source": [
        "!cd workshop/ && pip3 install -e .\n",
        "import sys\n",
        "sys.path.append('/content/workshop/')\n",
        "!pip install fsspec"
      ],
      "execution_count": 2,
      "outputs": [
        {
          "output_type": "stream",
          "text": [
            "Obtaining file:///content/workshop\n",
            "Collecting biopython\n",
            "  Downloading biopython-1.79-cp37-cp37m-manylinux_2_5_x86_64.manylinux1_x86_64.whl (2.3 MB)\n",
            "\u001b[K     |████████████████████████████████| 2.3 MB 15.5 MB/s \n",
            "\u001b[?25hCollecting quantiprot\n",
            "  Downloading quantiprot-0.2.4.tar.gz (135 kB)\n",
            "\u001b[K     |████████████████████████████████| 135 kB 73.0 MB/s \n",
            "\u001b[?25hCollecting fire\n",
            "  Downloading fire-0.4.0.tar.gz (87 kB)\n",
            "\u001b[K     |████████████████████████████████| 87 kB 6.4 MB/s \n",
            "\u001b[?25hCollecting memoization\n",
            "  Downloading memoization-0.4.0.tar.gz (41 kB)\n",
            "\u001b[K     |████████████████████████████████| 41 kB 192 kB/s \n",
            "\u001b[?25hRequirement already satisfied: dask in /usr/local/lib/python3.7/dist-packages (from epitope-workshop==0.0.2) (2.12.0)\n",
            "Requirement already satisfied: numpy in /usr/local/lib/python3.7/dist-packages (from biopython->epitope-workshop==0.0.2) (1.19.5)\n",
            "Requirement already satisfied: six in /usr/local/lib/python3.7/dist-packages (from fire->epitope-workshop==0.0.2) (1.15.0)\n",
            "Requirement already satisfied: termcolor in /usr/local/lib/python3.7/dist-packages (from fire->epitope-workshop==0.0.2) (1.1.0)\n",
            "Requirement already satisfied: requests>=2.10.0 in /usr/local/lib/python3.7/dist-packages (from quantiprot->epitope-workshop==0.0.2) (2.23.0)\n",
            "Requirement already satisfied: chardet<4,>=3.0.2 in /usr/local/lib/python3.7/dist-packages (from requests>=2.10.0->quantiprot->epitope-workshop==0.0.2) (3.0.4)\n",
            "Requirement already satisfied: certifi>=2017.4.17 in /usr/local/lib/python3.7/dist-packages (from requests>=2.10.0->quantiprot->epitope-workshop==0.0.2) (2021.5.30)\n",
            "Requirement already satisfied: idna<3,>=2.5 in /usr/local/lib/python3.7/dist-packages (from requests>=2.10.0->quantiprot->epitope-workshop==0.0.2) (2.10)\n",
            "Requirement already satisfied: urllib3!=1.25.0,!=1.25.1,<1.26,>=1.21.1 in /usr/local/lib/python3.7/dist-packages (from requests>=2.10.0->quantiprot->epitope-workshop==0.0.2) (1.24.3)\n",
            "Building wheels for collected packages: fire, memoization, quantiprot\n",
            "  Building wheel for fire (setup.py) ... \u001b[?25l\u001b[?25hdone\n",
            "  Created wheel for fire: filename=fire-0.4.0-py2.py3-none-any.whl size=115943 sha256=3484f6f5201b4d3a6c30534ece8a27506a801c85615a26d209894380f8f4051f\n",
            "  Stored in directory: /root/.cache/pip/wheels/8a/67/fb/2e8a12fa16661b9d5af1f654bd199366799740a85c64981226\n",
            "  Building wheel for memoization (setup.py) ... \u001b[?25l\u001b[?25hdone\n",
            "  Created wheel for memoization: filename=memoization-0.4.0-py3-none-any.whl size=50466 sha256=dce9aa42dbe924bab8d54100021efa865a0232801ea951838c9398c760640c27\n",
            "  Stored in directory: /root/.cache/pip/wheels/38/f7/65/161985e7311dd484a23b3a5c9149995dbf11db6cede602e7ef\n",
            "  Building wheel for quantiprot (setup.py) ... \u001b[?25l\u001b[?25hdone\n",
            "  Created wheel for quantiprot: filename=quantiprot-0.2.4-py3-none-any.whl size=151137 sha256=2fd7f935879167220ae6949126ddfc41a6a6489c124046a317e0c99caf4ca809\n",
            "  Stored in directory: /root/.cache/pip/wheels/93/8d/65/eca9417dcf185da8a775304eff8b40086e2575111c339cc040\n",
            "Successfully built fire memoization quantiprot\n",
            "Installing collected packages: quantiprot, memoization, fire, biopython, epitope-workshop\n",
            "  Running setup.py develop for epitope-workshop\n",
            "Successfully installed biopython-1.79 epitope-workshop-0.0.2 fire-0.4.0 memoization-0.4.0 quantiprot-0.2.4\n",
            "Collecting fsspec\n",
            "  Downloading fsspec-2021.7.0-py3-none-any.whl (118 kB)\n",
            "\u001b[K     |████████████████████████████████| 118 kB 15.7 MB/s \n",
            "\u001b[?25hInstalling collected packages: fsspec\n",
            "Successfully installed fsspec-2021.7.0\n"
          ],
          "name": "stdout"
        }
      ]
    },
    {
      "cell_type": "code",
      "metadata": {
        "id": "4BApN36RBbDi"
      },
      "source": [
        "from EpitopeWorkshop.process import read\n",
        "from EpitopeWorkshop.common.conf import DEFAULT_WINDOW_SIZE, DEFAULT_WITH_SLIDING_WINDOW\n",
        "from EpitopeWorkshop.process.features import FeatureCalculator\n",
        "import dask.dataframe as dd\n",
        "\n",
        "sequences_file_path = '/content/workshop/data/iedb_linear_epitopes.fasta'\n",
        "window_size = 9\n",
        "partitions_amt=2\n",
        "\n",
        "df = read.load_fasta_fasta(sequences_file_path, True, window_size, 1)\n",
        "ddf = dd.from_pandas(df, npartitions=partitions_amt)\n",
        "calculator = FeatureCalculator()\n",
        "df = calculator.calculate_features(ddf)"
      ],
      "execution_count": 3,
      "outputs": []
    },
    {
      "cell_type": "code",
      "metadata": {
        "colab": {
          "base_uri": "https://localhost:8080/"
        },
        "id": "4cQp8rT9BjmL",
        "outputId": "75002692-0861-435c-b7bd-d093fd4b08c2"
      },
      "source": [
        "from EpitopeWorkshop.common import utils\n",
        "import torch\n",
        "import torchtext\n",
        "from EpitopeWorkshop.common import contract\n",
        "from EpitopeWorkshop.dataset.EpitopeDataset import EpitopeDataset\n",
        "\n",
        "sub_df = df[contract.NETWORK_LABELED_INPUT_ARGS]\n",
        "labels_df = df[contract.IS_IN_EPITOPE_COL_NAME]\n",
        "ds = EpitopeDataset(sub_df)\n",
        "device = torch.device('cuda' if torch.cuda.is_available() else 'cpu')\n",
        "ds_train, ds_valid, ds_test = ds.splits()\n",
        "print(len(ds_train), len(ds_valid), len(ds_test))"
      ],
      "execution_count": 4,
      "outputs": [
        {
          "output_type": "stream",
          "text": [
            "3753 524 1015\n"
          ],
          "name": "stdout"
        }
      ]
    },
    {
      "cell_type": "code",
      "metadata": {
        "id": "SQGmLxkgBp4e"
      },
      "source": [
        "from torchtext import data\n",
        "BATCH_SIZE = 25\n",
        "dl_train, dl_valid, dl_test = ds.iters(batch_size=32)\n",
        "\n",
        "x0, y0 = ds[0]"
      ],
      "execution_count": 5,
      "outputs": []
    }
  ]
}